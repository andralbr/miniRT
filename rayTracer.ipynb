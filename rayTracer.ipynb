{
 "cells": [
  {
   "cell_type": "code",
   "execution_count": null,
   "metadata": {},
   "outputs": [],
   "source": [
    "import numpy as np\n",
    "import matplotlib.pyplot as plt"
   ]
  },
  {
   "cell_type": "code",
   "execution_count": null,
   "metadata": {},
   "outputs": [],
   "source": [
    "class Ray:\n",
    "    def __init__(self, origin, direction):\n",
    "        self.origin = origin\n",
    "        self.direction = direction\n",
    "\n",
    "class Camera:\n",
    "    def __init__(self, resolution, fieldOfView):\n",
    "        # Calculate FOV in z an x direction\n",
    "        if resolution[0] > resolution[1]:\n",
    "            fov_x = fieldOfView/180.0*np.pi\n",
    "            # Image plane lengths\n",
    "            l_x = np.arctan(fov_x)\n",
    "            l_z = l_x * resolution[1]/resolution[0]\n",
    "\n",
    "        self.numberPixels_x = resolution[0]\n",
    "        self.numberPixels_z = resolution[1]\n",
    "        self.planeLength_x = 2*l_x\n",
    "        self.planeLength_z = 2*l_z\n",
    "        self.fov = fieldOfView\n",
    "        self.image = np.zeros((resolution[1], resolution[0]))\n",
    "        self.position = np.array([0,0,0])\n",
    "\n",
    "    def get_ray(self, nz, nx):\n",
    "        ray_direction =  np.array([-0.5*self.planeLength_x+self.planeLength_x/self.numberPixels_x*(0.5+nx),\n",
    "                                   1.0,\n",
    "                                   0.5*self.planeLength_z-self.planeLength_z/self.numberPixels_z*(0.5+nz)])\n",
    "        return Ray(self.position, ray_direction)\n",
    "\n",
    "    def render(self, scene):\n",
    "        self.image = np.zeros(self.image.shape)\n",
    "        for nz in range(self.numberPixels_z):\n",
    "            for nx in range(self.numberPixels_x):\n",
    "                ray = self.get_ray(nz, nx)\n",
    "                for obj in scene:\n",
    "                    isHit, radiance = obj.hit(ray)\n",
    "                    if isHit:\n",
    "                        self.image[nz,nx] = radiance\n",
    "\n",
    "        return self.image\n",
    "\n",
    "np.array([1,2,3])"
   ]
  },
  {
   "cell_type": "code",
   "execution_count": null,
   "metadata": {},
   "outputs": [],
   "source": [
    "class Object:\n",
    "    def __init__(self, position):\n",
    "        self.position = position\n",
    "\n",
    "    def hit(ray):\n",
    "        return False\n",
    "    \n",
    "class Sphere:\n",
    "    def __init__(self, position, radius, radiance):\n",
    "        self.position = position \n",
    "        self.radius = radius\n",
    "        self.radiance = radiance\n",
    "\n",
    "    def hit(self, ray):\n",
    "        rc = ray.origin-self.position\n",
    "        a = np.dot(ray.direction, ray.direction)\n",
    "        b = 2*np.dot(ray.direction, rc)\n",
    "        c = np.dot(rc, rc) - self.radius**2\n",
    "        if (b*b-4*a*c) >= 0:\n",
    "            return True, self.radiance\n",
    "        else:\n",
    "            return False, None\n"
   ]
  },
  {
   "cell_type": "code",
   "execution_count": null,
   "metadata": {},
   "outputs": [],
   "source": [
    "camera = Camera((50,40), 60.0)\n",
    "scene = []\n",
    "scene.append(Sphere(np.array([0.0, 4.0, 0.0]), 1.2, 5.0))\n",
    "img = camera.render(scene)"
   ]
  },
  {
   "cell_type": "code",
   "execution_count": null,
   "metadata": {},
   "outputs": [],
   "source": [
    "fig, ax = plt.subplots(1,1, figsize=(8,6))\n",
    "ax.imshow(img)"
   ]
  }
 ],
 "metadata": {
  "kernelspec": {
   "display_name": "Python 3",
   "language": "python",
   "name": "python3"
  },
  "language_info": {
   "codemirror_mode": {
    "name": "ipython",
    "version": 3
   },
   "file_extension": ".py",
   "mimetype": "text/x-python",
   "name": "python",
   "nbconvert_exporter": "python",
   "pygments_lexer": "ipython3",
   "version": "3.9.6"
  }
 },
 "nbformat": 4,
 "nbformat_minor": 2
}
